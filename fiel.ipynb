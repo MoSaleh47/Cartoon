{
 "cells": [
  {
   "cell_type": "code",
   "execution_count": 3,
   "metadata": {},
   "outputs": [
    {
     "name": "stdout",
     "output_type": "stream",
     "text": [
      "Library Versions:\n",
      "-----------------\n",
      "Python Version: 3.10.16 | packaged by Anaconda, Inc. | (main, Dec 11 2024, 16:19:12) [MSC v.1929 64 bit (AMD64)]\n",
      "TensorFlow Version: 2.10.0\n",
      "OpenCV Version: 4.10.0\n",
      "NumPy Version: 1.26.4\n",
      "Matplotlib Version: 3.10.0\n",
      "PyQt5 Version (Qt Version): 5.15.2\n",
      "TensorFlow Hub Version: 0.16.1\n",
      "Pillow Version: 11.0.0\n"
     ]
    }
   ],
   "source": [
    "import tensorflow as tf\n",
    "import cv2\n",
    "import numpy as np\n",
    "import matplotlib\n",
    "import sys\n",
    "from PyQt5.QtCore import QT_VERSION_STR\n",
    "import tensorflow_hub as hub\n",
    "from PIL import Image\n",
    "\n",
    "print(\"Library Versions:\")\n",
    "print(\"-----------------\")\n",
    "print(f\"Python Version: {sys.version}\")\n",
    "print(f\"TensorFlow Version: {tf.__version__}\")\n",
    "print(f\"OpenCV Version: {cv2.__version__}\")\n",
    "print(f\"NumPy Version: {np.__version__}\")\n",
    "print(f\"Matplotlib Version: {matplotlib.__version__}\")\n",
    "print(f\"PyQt5 Version (Qt Version): {QT_VERSION_STR}\")\n",
    "try:\n",
    "    print(f\"TensorFlow Hub Version: {hub.__version__}\")\n",
    "except AttributeError:\n",
    "    print(\"TensorFlow Hub is not installed or could not retrieve version.\")\n",
    "print(f\"Pillow Version: {Image.__version__}\")\n"
   ]
  }
 ],
 "metadata": {
  "kernelspec": {
   "display_name": "tf_project2",
   "language": "python",
   "name": "python3"
  },
  "language_info": {
   "codemirror_mode": {
    "name": "ipython",
    "version": 3
   },
   "file_extension": ".py",
   "mimetype": "text/x-python",
   "name": "python",
   "nbconvert_exporter": "python",
   "pygments_lexer": "ipython3",
   "version": "3.10.16"
  }
 },
 "nbformat": 4,
 "nbformat_minor": 2
}
