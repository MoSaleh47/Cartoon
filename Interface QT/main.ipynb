{
 "cells": [
  {
   "cell_type": "markdown",
   "metadata": {},
   "source": []
  },
  {
   "cell_type": "code",
   "execution_count": 1,
   "metadata": {},
   "outputs": [
    {
     "name": "stderr",
     "output_type": "stream",
     "text": [
      "C:\\Users\\sefir\\AppData\\Local\\Temp\\ipykernel_23120\\3921413335.py:12: DeprecationWarning: sipPyTypeDict() is deprecated, the extension module should use sipPyTypeDictRef() instead\n",
      "  class CartoonizerApp(QtWidgets.QMainWindow):\n"
     ]
    },
    {
     "ename": "SystemExit",
     "evalue": "0",
     "output_type": "error",
     "traceback": [
      "An exception has occurred, use %tb to see the full traceback.\n",
      "\u001b[1;31mSystemExit\u001b[0m\u001b[1;31m:\u001b[0m 0\n"
     ]
    },
    {
     "name": "stderr",
     "output_type": "stream",
     "text": [
      "c:\\Users\\sefir\\anaconda3\\envs\\tf_project2\\lib\\site-packages\\IPython\\core\\interactiveshell.py:3585: UserWarning: To exit: use 'exit', 'quit', or Ctrl-D.\n",
      "  warn(\"To exit: use 'exit', 'quit', or Ctrl-D.\", stacklevel=1)\n"
     ]
    }
   ],
   "source": [
    "import sys\n",
    "from PyQt5 import QtWidgets, QtGui\n",
    "from PyQt5.QtWidgets import QFileDialog, QMessageBox\n",
    "from PyQt5.QtGui import QPixmap\n",
    "from cartoonizer_ui import Ui_MainWindow\n",
    "from tensorflow.keras.preprocessing.image import load_img, img_to_array\n",
    "import tensorflow as tf\n",
    "import cv2\n",
    "import numpy as np\n",
    "\n",
    "\n",
    "class CartoonizerApp(QtWidgets.QMainWindow):\n",
    "    def __init__(self):\n",
    "        super(CartoonizerApp, self).__init__()\n",
    "        self.ui = Ui_MainWindow()\n",
    "        self.ui.setupUi(self)\n",
    "\n",
    "        # Connect buttons to respective functions\n",
    "        self.ui.pushButton.clicked.connect(self.browse_image)\n",
    "        self.ui.pushButton_2.clicked.connect(self.generate_cartoon)\n",
    "        self.ui.pushButton_3.clicked.connect(self.save_image)\n",
    "\n",
    "        # Attributes for storing paths and images\n",
    "        self.image_path = None\n",
    "        self.cartoonized_image = None\n",
    "\n",
    "        # Load the pre-trained GAN model\n",
    "        self.model = tf.keras.models.load_model(\"../pix2pix_generator_model_with metrics.h5\", compile=False)\n",
    "\n",
    "    def browse_image(self):\n",
    "        # Open a file dialog to select an image\n",
    "        file_name, _ = QFileDialog.getOpenFileName(self, \"Select Image\", \"\", \"Images (*.png *.jpg *.jpeg)\")\n",
    "        if file_name:\n",
    "            self.image_path = file_name\n",
    "            pixmap = QPixmap(file_name)\n",
    "            self.ui.label_3.setPixmap(pixmap.scaled(self.ui.label_3.width(), self.ui.label_3.height(), aspectRatioMode=1))\n",
    "\n",
    "    def preprocess_image(self, image_path, size=(256, 256)):\n",
    "        # Preprocess the image for the GAN model\n",
    "        img = tf.keras.preprocessing.image.load_img(image_path, target_size=size)\n",
    "        img = tf.keras.preprocessing.image.img_to_array(img) / 255.0  # Normalize to [0, 1]\n",
    "        img = tf.expand_dims(img, axis=0)  # Add batch dimension\n",
    "        return img\n",
    "\n",
    "    def generate_cartoon(self):\n",
    "        if not self.image_path:\n",
    "            QMessageBox.warning(self, \"No Image Selected\", \"Please select an image first!\")\n",
    "            return\n",
    "\n",
    "        try:\n",
    "            # Update progress bar\n",
    "            self.ui.progressBar.setValue(50)\n",
    "\n",
    "            # Preprocess and generate cartoon\n",
    "            input_image = self.preprocess_image(self.image_path)\n",
    "            generated_image = self.model(input_image, training=False).numpy()  # Convert to NumPy\n",
    "            self.cartoonized_image = generated_image[0] * 255  # Scale to [0, 255]\n",
    "            self.cartoonized_image = np.clip(self.cartoonized_image, 0, 255).astype(np.uint8)\n",
    "\n",
    "            # Display the cartoonized image\n",
    "            height, width, channel = self.cartoonized_image.shape\n",
    "            bytes_per_line = 3 * width\n",
    "            cartoonized_qimage = QtGui.QImage(\n",
    "                self.cartoonized_image.data, width, height, bytes_per_line, QtGui.QImage.Format_RGB888\n",
    "            )\n",
    "            pixmap = QPixmap.fromImage(cartoonized_qimage)\n",
    "            self.ui.label_2.setPixmap(pixmap.scaled(self.ui.label_2.width(), self.ui.label_2.height(), aspectRatioMode=1))\n",
    "\n",
    "            # Complete progress\n",
    "            self.ui.progressBar.setValue(100)\n",
    "\n",
    "        except Exception as e:\n",
    "            QMessageBox.critical(self, \"Error\", f\"Failed to process image: {str(e)}\")\n",
    "\n",
    "\n",
    "\n",
    "    def save_image(self):\n",
    "        if self.cartoonized_image is None:\n",
    "            QMessageBox.warning(self, \"No Cartoonized Image\", \"Please generate a cartoonized image first!\")\n",
    "            return\n",
    "\n",
    "        # Save the cartoonized image\n",
    "        file_name, _ = QFileDialog.getSaveFileName(self, \"Save Image\", \"\", \"Images (*.png *.jpg *.jpeg)\")\n",
    "        if file_name:\n",
    "            try:\n",
    "                # Use OpenCV to save the image\n",
    "                cv2.imwrite(file_name, cv2.cvtColor(self.cartoonized_image, cv2.COLOR_RGB2BGR))\n",
    "                QMessageBox.information(self, \"Image Saved\", f\"Image saved to: {file_name}\")\n",
    "            except Exception as e:\n",
    "                QMessageBox.critical(self, \"Error\", f\"Failed to save image: {str(e)}\")\n",
    "\n",
    "\n",
    "\n",
    "if __name__ == \"__main__\":\n",
    "    app = QtWidgets.QApplication(sys.argv)\n",
    "    mainWindow = CartoonizerApp()\n",
    "    mainWindow.show()\n",
    "    sys.exit(app.exec_())\n"
   ]
  }
 ],
 "metadata": {
  "kernelspec": {
   "display_name": "tf_project2",
   "language": "python",
   "name": "python3"
  },
  "language_info": {
   "codemirror_mode": {
    "name": "ipython",
    "version": 3
   },
   "file_extension": ".py",
   "mimetype": "text/x-python",
   "name": "python",
   "nbconvert_exporter": "python",
   "pygments_lexer": "ipython3",
   "version": "3.10.16"
  }
 },
 "nbformat": 4,
 "nbformat_minor": 2
}
